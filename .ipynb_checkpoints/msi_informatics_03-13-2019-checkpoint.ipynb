{
 "cells": [
  {
   "cell_type": "markdown",
   "metadata": {
    "slideshow": {
     "slide_type": "slide"
    }
   },
   "source": [
    "# NoSQL Database Explorations for Spatial Analysis\n",
    "\n",
    "Alison Link | MSI Informatics Interest Group | 13 March 2019\n",
    "\n",
    "<img src=\"img/nosql.png\" alt=\"noSQL logo\" width=\"600\"/>"
   ]
  },
  {
   "cell_type": "markdown",
   "metadata": {
    "slideshow": {
     "slide_type": "slide"
    }
   },
   "source": [
    "# What do we mean by 'NoSQL'?\n",
    "\n",
    "NoSQL databases don't like to be labeled!\n",
    "\n",
    "> \"...when 'NoSQL' is applied to a database, it refers to an **ill-defined set** of mostly open-source databases, mostly developed in the early 21st century, and mostly not using SQL.\" (_NoSQL Distilled_, p. 11)\n",
    "\n",
    "> \"To summarize the summary, **it neither makes sense to precisely define NoSQL**, nor to simply say that Elasticsearch is a \"document store\"-type NoSQL-database.\" ([ElasticSearch as a NoSQL Database](https://www.elastic.co/blog/found-elasticsearch-as-nosql))\n",
    "\n",
    "\n"
   ]
  },
  {
   "cell_type": "markdown",
   "metadata": {
    "slideshow": {
     "slide_type": "subslide"
    }
   },
   "source": [
    "* **Document** --> MongoDB, Elasticsearch\n",
    "\n",
    "* **Graph** --> Neo4j\n",
    "\n",
    "* **Key-Value** --> Riak\n",
    "\n",
    "* **Column-Family** --> Cassandra\n",
    "\n",
    "(_NoSQL Distilled_, p. xvii)\n",
    "\n",
    "<img src=\"img/documents.png\" alt=\"document icon\" width=\"200\" style=\"float:left;padding:20px\"/>\n",
    "\n",
    "<img src=\"img/graph.png\" alt=\"graph icon\" width=\"300\" style=\"float:left;padding:20px\"/>"
   ]
  },
  {
   "cell_type": "markdown",
   "metadata": {
    "slideshow": {
     "slide_type": "subslide"
    }
   },
   "source": [
    "# Twitter data objects\n",
    "\n",
    "https://developer.twitter.com/en/docs/tweets/data-dictionary/overview/tweet-object.html\n",
    "\n",
    "```json\n",
    "{\n",
    "  \"created_at\": \"Thu Apr 06 15:24:15 +0000 2017\",\n",
    "  \"id_str\": \"850006245121695744\",\n",
    "  \"text\": \"1\\/ Today we\\u2019re sharing our vision for the future of the Twitter API platform!\\nhttps:\\/\\/t.co\\/XweGngmxlP\",\n",
    "  \"user\": {\n",
    "    \"id\": 2244994945,\n",
    "    \"name\": \"Twitter Dev\",\n",
    "    \"screen_name\": \"TwitterDev\",\n",
    "    \"location\": \"Internet\",\n",
    "    \"url\": \"https:\\/\\/dev.twitter.com\\/\",\n",
    "    \"description\": \"Your official source for Twitter Platform news, updates & events. Need technical help? Visit https:\\/\\/twittercommunity.com\\/ \\u2328\\ufe0f #TapIntoTwitter\"\n",
    "  },\n",
    "  \"place\": {   \n",
    "  },\n",
    "  \"entities\": {\n",
    "    \"hashtags\": [      \n",
    "    ],\n",
    "    \"urls\": [\n",
    "      {\n",
    "        \"url\": \"https:\\/\\/t.co\\/XweGngmxlP\",\n",
    "        \"unwound\": {\n",
    "          \"url\": \"https:\\/\\/cards.twitter.com\\/cards\\/18ce53wgo4h\\/3xo1c\",\n",
    "          \"title\": \"Building the Future of the Twitter API Platform\"\n",
    "        }\n",
    "      }\n",
    "    ],\n",
    "    \"user_mentions\": [     \n",
    "    ]\n",
    "  }\n",
    "}\n",
    "```"
   ]
  },
  {
   "cell_type": "markdown",
   "metadata": {
    "slideshow": {
     "slide_type": "slide"
    }
   },
   "source": [
    "## The Distributed Dream\n",
    "\n",
    "<img src=\"img/distributed_dream_graphic.png\" alt=\"document icon\" width=\"800\"/>"
   ]
  },
  {
   "cell_type": "markdown",
   "metadata": {
    "slideshow": {
     "slide_type": "subslide"
    }
   },
   "source": [
    "## The Distributed Reality\n",
    "\n",
    "<img src=\"img/cloudformation_fail.png\" alt=\"document icon\" width=\"600\"/>\n",
    "\n",
    "<img src=\"img/cloudformation_error.png\" alt=\"document icon\" width=\"400\"/>"
   ]
  },
  {
   "cell_type": "markdown",
   "metadata": {
    "slideshow": {
     "slide_type": "subslide"
    }
   },
   "source": [
    "<img src=\"img/cloudformation_success.png\" alt=\"document icon\" width=\"600\"/>\n",
    "<img src=\"img/cloudformation_mongo_connection.png\" alt=\"document icon\" width=\"400\"/>\n",
    "<img src=\"img/cloudformation_mongo_connection_fail.png\" alt=\"document icon\" width=\"400\" />"
   ]
  },
  {
   "cell_type": "markdown",
   "metadata": {
    "slideshow": {
     "slide_type": "subslide"
    }
   },
   "source": [
    "### Problem #1:\n",
    "\n",
    "<img src=\"img/cloudformation_cost_estimate.png\" alt=\"document icon\" width=\"500\"/>\n",
    "\n",
    "\n",
    "### Problem #2:\n",
    "\n",
    "> \"Persistent volumes aren't quite 'there' yet. \\[...\\] it can be dangerous to store data in Kubernetes persistent volumes, since you can't do backup and restore.\" (Practitioner interview)\n",
    "\n",
    "[Docker for AWS](https://docs.docker.com/docker-for-aws/)\n",
    "\n",
    "[MongoDB on the AWS Cloud](https://docs.aws.amazon.com/quickstart/latest/mongodb/welcome.html)"
   ]
  },
  {
   "cell_type": "markdown",
   "metadata": {
    "slideshow": {
     "slide_type": "slide"
    }
   },
   "source": [
    "# The Explorations...\n",
    "\n",
    "* What does a **data model** look like?\n",
    "\n",
    "* What are some **query examples**--including spatial queries--that show off this database's special niche?\n",
    "\n",
    "## The Tutorials...\n",
    "\n",
    "https://github.com/linkalis/nosql_databases_for_spatial_analysis"
   ]
  },
  {
   "cell_type": "markdown",
   "metadata": {
    "slideshow": {
     "slide_type": "slide"
    }
   },
   "source": [
    "# MongoDB\n",
    "\n",
    "<img src=\"img/mongodb_map.png\" alt=\"Mongodb Compass app\" width=\"800\"/>"
   ]
  },
  {
   "cell_type": "markdown",
   "metadata": {
    "slideshow": {
     "slide_type": "subslide"
    }
   },
   "source": [
    "## What does a data model look like?\n",
    "\n",
    "Image credit: https://docs.mongodb.com/manual/core/data-model-design/ \n",
    "\n",
    "\n",
    "<img src=\"img/mongo_embedded_data_model.svg\" alt=\"Mongo embedded data model\" width=\"450\" style=\"float:left;\"/>\n",
    "\n",
    "<img src=\"img/mongo_normalized_data_model.svg\" alt=\"Mongo normalized data model\" width=\"450\" style=\"float:right;\"/>"
   ]
  },
  {
   "cell_type": "markdown",
   "metadata": {
    "slideshow": {
     "slide_type": "subslide"
    }
   },
   "source": [
    "## Query examples\n",
    "\n",
    "#### Which cities have the most tweets associated with them?\n",
    "\n",
    "```\n",
    "db.tweets.aggregate([\n",
    "    { $match: { 'place.place_type': 'city' } },\n",
    "    { $group: { _id: { place_id: '$place.id', place_full_name: '$place.full_name' }, tweet_count: { $sum: 1 } } },\n",
    "    { $sort : { tweet_count : -1 } },\n",
    "    { $limit: 10 }\n",
    "])\n",
    "```\n",
    "\n"
   ]
  },
  {
   "cell_type": "markdown",
   "metadata": {
    "slideshow": {
     "slide_type": "subslide"
    }
   },
   "source": [
    "<img src=\"img/mongodb_aggregation_gui.png\" alt=\"Mongo Compass aggregation GUI\" width=\"800\"/>"
   ]
  },
  {
   "cell_type": "markdown",
   "metadata": {
    "slideshow": {
     "slide_type": "subslide"
    }
   },
   "source": [
    "#### Which countries have the most tweets associated with them?\n",
    "\n",
    "```\n",
    "db.tweets.mapReduce(\n",
    "    function() { emit({ place_id: this.place.id, place_full_name: this.place.full_name }, 1); },    \n",
    "    function(key, value) { return Array.sum(value); },    \n",
    "    {\n",
    "        query: { 'place.place_type': 'country' },\n",
    "        out: 'tweet_count'\n",
    "    }\n",
    ")\n",
    "```"
   ]
  },
  {
   "cell_type": "markdown",
   "metadata": {
    "slideshow": {
     "slide_type": "subslide"
    }
   },
   "source": [
    "<img src=\"img/mongodb_mapreduce_query_results.png\" alt=\"Mongo map reduce results displayed in Compass app\" width=\"800\"/>"
   ]
  },
  {
   "cell_type": "markdown",
   "metadata": {
    "slideshow": {
     "slide_type": "subslide"
    }
   },
   "source": [
    "#### Find all Yelp businesses that are located in Wisconsin, then count the tweets whose bounding box rectangles overlap the business' lat/long coordinates. (Spatial join)\n",
    "\n",
    "Yelp Dataset Challenge: https://www.yelp.com/dataset/challenge\n",
    "\n",
    "```\n",
    "db.yelp_businesses.find({ 'state': {$eq: 'WI'} }).forEach(function(element) {\n",
    "  var intersecting_tweets = db.tweets.find({\n",
    "   'place.better_bounding_box': {\n",
    "      $geoIntersects: {\n",
    "         $geometry: {\n",
    "            type: \"Point\",\n",
    "            coordinates: [ \n",
    "              element.location.coordinates[0],               \n",
    "              element.location.coordinates[1] \n",
    "            ]\n",
    "         }\n",
    "      }\n",
    "   }\n",
    "  }).count();\n",
    "\n",
    "  element['intersecting_tweets_count'] = intersecting_tweets;\n",
    "  db.businesses_tweets_joined.save(element);\n",
    "});\n",
    "```"
   ]
  },
  {
   "cell_type": "markdown",
   "metadata": {
    "slideshow": {
     "slide_type": "slide"
    }
   },
   "source": [
    "# Neo4j\n",
    "\n",
    "<img src=\"img/neo4j.png\" alt=\"Neo4j browser\" width=\"800\"/>"
   ]
  },
  {
   "cell_type": "markdown",
   "metadata": {
    "slideshow": {
     "slide_type": "subslide"
    }
   },
   "source": [
    "## What does a data model look like?\n",
    "\n",
    "<img src=\"img/neo4j_data_model.png\" alt=\"graph icon\" width=\"600\"/>"
   ]
  },
  {
   "cell_type": "markdown",
   "metadata": {
    "slideshow": {
     "slide_type": "notes"
    }
   },
   "source": [
    "emphasize flexability, ability to add arbitrary relationships later on as necessary"
   ]
  },
  {
   "cell_type": "markdown",
   "metadata": {
    "slideshow": {
     "slide_type": "subslide"
    }
   },
   "source": [
    "```\n",
    "MERGE (t:Tweet {tweet_id: toInteger(tweet.id_str)})\n",
    "ON CREATE SET t.text = tweet.text,\n",
    "\tt.timestamp_ms = toInteger(tweet.timestamp_ms),\n",
    "    ...\n",
    "\n",
    "MERGE (u:User {user_id: toInteger(tweet.user.id)})\n",
    "SET\tu.name = tweet.user.name,\n",
    "\tu.screen_name = tweet.user.screen_name,\n",
    "\tu.description = tweet.user.description,\n",
    "\t...\n",
    "\n",
    "CREATE (t)-[:TWEETED_BY]->(u)\n",
    "CREATE (u)-[:TWEETED]->(t)\n",
    "\n",
    "MERGE (p:Place {place_id: toString(place_id)})\n",
    "SET\tp.name = tweet.place.name,\n",
    "\t...\n",
    "\tp.bounding_box_LL = point({ \n",
    "        longitude: toFloat(tweet.place.bounding_box.coordinates[0][0][0]), \n",
    "        latitude: toFloat(tweet.place.bounding_box.coordinates[0][0][1]) \n",
    "    }),\n",
    "\n",
    "CREATE (t)-[:LOCATED_AT]->(p)\n",
    "\n",
    "WITH t, tweet, tweet.entities.user_mentions AS mentions\n",
    "UNWIND mentions AS mention\n",
    "MERGE (mentioned_user:User {id: toInteger(mention.id), name: mention.name, screen_name: mention.screen_name})\n",
    "CREATE (t)-[:MENTIONS]->(mentioned_user)\n",
    "\n",
    "WITH t, tweet, tweet.entities.hashtags AS hashtags\n",
    "UNWIND hashtags AS hashtag\n",
    "\tMERGE (h:Hashtag {hashtag_id: hashtag.text})\n",
    "\tCREATE (t)-[:HASHTAGS]->(h)\n",
    "```"
   ]
  },
  {
   "cell_type": "markdown",
   "metadata": {
    "slideshow": {
     "slide_type": "notes"
    }
   },
   "source": [
    "MERGE helps with uniqueness; will check if a node already exists before creating a new one\n",
    "\n",
    "UNWIND flattens out values stored in an array"
   ]
  },
  {
   "cell_type": "markdown",
   "metadata": {
    "slideshow": {
     "slide_type": "subslide"
    }
   },
   "source": [
    "## Query examples\n",
    "\n",
    "#### Which tweets were tweeted in Minneapolis?\n",
    "\n",
    "```\n",
    "MATCH (t:Tweet)-[:LOCATED_AT]->(p:Place)\n",
    "WHERE p.full_name =~ 'Minneapolis.*'\n",
    "RETURN t\n",
    "```"
   ]
  },
  {
   "cell_type": "markdown",
   "metadata": {
    "slideshow": {
     "slide_type": "subslide"
    }
   },
   "source": [
    "<img src=\"img/neo4j_text_filter_query_results.png\" alt=\"query results, with node diagram expanded in browser window\" width=\"800\"/>"
   ]
  },
  {
   "cell_type": "markdown",
   "metadata": {
    "slideshow": {
     "slide_type": "subslide"
    }
   },
   "source": [
    "#### Which users appear to be the most influential, based on how many mentions they've received?\n",
    "\n",
    "```\n",
    "CALL algo.pageRank.stream('User', 'MENTIONS', { iterations: 20, dampingFactor: 0.85 })\n",
    "YIELD nodeId, score\n",
    "MATCH (u) WHERE id(u) = nodeId\n",
    "RETURN u.screen_name AS user, score\n",
    "ORDER BY score DESC\n",
    "```"
   ]
  },
  {
   "cell_type": "markdown",
   "metadata": {
    "slideshow": {
     "slide_type": "subslide"
    }
   },
   "source": [
    "<img src=\"img/neo4j_pagerank_query_results.png\" alt=\"page rank query results, with realDonaldTrump at the top\" width=\"800\"/>"
   ]
  },
  {
   "cell_type": "markdown",
   "metadata": {
    "slideshow": {
     "slide_type": "slide"
    }
   },
   "source": [
    "# Elasticsearch\n",
    "\n",
    "![Kibana](img/kibana.png)"
   ]
  },
  {
   "cell_type": "markdown",
   "metadata": {
    "slideshow": {
     "slide_type": "subslide"
    }
   },
   "source": [
    "## What does a data model look like?\n",
    "\n",
    "```\n",
    "PUT twitter_sample\n",
    "{\n",
    "    \"settings\": {\n",
    "        \"number_of_shards\": 1,\n",
    "        \"number_of_replicas\": 0\n",
    "    },\n",
    "    \"mappings\": {\n",
    "        \"tweet\": {\n",
    "            \"_source\": { \"enabled\": false },\n",
    "            \"properties\": {\n",
    "                \"text\": {\"type\": \"text\" },\n",
    "                \"timestamp_ms\": { \"type\": \"date\", \"format\": \"epoch_millis\" },\n",
    "                \"user\": { \n",
    "                    \"properties\": { \n",
    "                        \"location\": { \"type\": \"text\" },\n",
    "                        \"description\": { \"type\": \"text\" }\n",
    "                    }\n",
    "                },\n",
    "                \"place\": { \n",
    "                    \"properties\": { \n",
    "                        \"name\": { \"type\": \"keyword\" },\n",
    "                        \"full_name\": { \"type\": \"keyword\" },\n",
    "                        \"centroid\": { \"type\": \"geo_shape\" },\n",
    "                        \"better_bounding_box\": { \"type\": \"geo_shape\" },\n",
    "                        \"centroid_geohash\": { \"type\": \"geo_point\" }\n",
    "                    }\n",
    "                }\n",
    "            }\n",
    "        }\n",
    "    }\n",
    "}\n",
    "```"
   ]
  },
  {
   "cell_type": "markdown",
   "metadata": {
    "slideshow": {
     "slide_type": "subslide"
    }
   },
   "source": [
    "## Query examples\n",
    "\n",
    "#### What words rhyme with orange?\n",
    "\n",
    "```\n",
    "GET twitter_small_with_source/_search\n",
    "{ \"_source\": [\"id\", \"text\", \"user.location\", \"place.full_name\"],\n",
    "  \"query\": {\n",
    "    \"bool\": {\n",
    "      \"must\": {\n",
    "        \"multi_match\" : {\n",
    "            \"query\": \"orange\",\n",
    "            \"fields\": [\"text\", \"user.location\", \"place.full_name\"],\n",
    "            \"fuzziness\": 2\n",
    "        }\n",
    "      },\n",
    "      \"must_not\": {\n",
    "        \"multi_match\" : {\n",
    "            \"query\": \"orange\",\n",
    "            \"fields\": [\"text\", \"user.location\", \"place.full_name\"]\n",
    "        }\n",
    "      }\n",
    "    }\n",
    "  }\n",
    "}\n",
    "```"
   ]
  },
  {
   "cell_type": "markdown",
   "metadata": {
    "slideshow": {
     "slide_type": "subslide"
    }
   },
   "source": [
    "<img src=\"img/elasticsearch_rhyme_query_results.png\" alt=\"Elasticsearch orange rhyme results\" width=\"600\" style=\"float:left;\"/>"
   ]
  },
  {
   "cell_type": "markdown",
   "metadata": {
    "slideshow": {
     "slide_type": "slide"
    }
   },
   "source": [
    "# NoSQL Database Smackdown!\n",
    "\n",
    "<img src=\"img/big_bang_theory_smackdown.jpg\" alt=\"Big Bang Theory boxing match\" width=\"400\"/>"
   ]
  },
  {
   "cell_type": "markdown",
   "metadata": {
    "slideshow": {
     "slide_type": "subslide"
    }
   },
   "source": [
    "## Load time comparison\n",
    "\n",
    "These comparisons were run with:\n",
    "* 500MB of data (~200,000 tweets), spread across 40 files with 5,000 tweets each\n",
    "* Indexes set on the tweets' \"id\" field (and in the case of Neo4j, also on user.id and place.id) that enforce a uniqueness constraint\n",
    "\n",
    "<img src=\"img/mongodb_bulk_docker_localhost_500MB_load_times.png\" alt=\"MongoDB load times graph\" width=\"300\" style=\"float:left;\"/>\n",
    "\n",
    "<img src=\"img/neo4j_docker_localhost_500MB_load_times_with_indexes.png\" alt=\"Neo4j load times graph\" width=\"300\" style=\"float:right;\"/>\n",
    "\n",
    "<br>\n",
    "\n",
    "<img src=\"img/elasticsearch_bulk_docker_localhost_500MB_load_times.png\" alt=\"Elasticsearch load times graph\" width=\"300\" style=\"float:center;\"/>"
   ]
  },
  {
   "cell_type": "markdown",
   "metadata": {
    "slideshow": {
     "slide_type": "subslide"
    }
   },
   "source": [
    "## Basic query benchmarks\n",
    "\n",
    "#### How many tweets were tweeted by users with a follower count > 10000?\n",
    "\n",
    "```\n",
    "GET twitter_small/_search\n",
    "{\n",
    "    \"query\": {\n",
    "        \"range\" : {\n",
    "            \"user.followers_count\": {\n",
    "                \"gt\" : 10000\n",
    "            }\n",
    "        }\n",
    "    }\n",
    "}\n",
    "\n",
    "```\n",
    "<hr>\n",
    "\n",
    "```\n",
    "{ 'user.followers_count': {$gt: 10000} }\n",
    "```\n",
    "<hr>\n",
    "\n",
    "```\n",
    "MATCH (t:Tweet)-[:TWEETED_BY]->(u:User)\n",
    "WHERE u.followers_count > 10000\n",
    "RETURN count(t)\n",
    "```"
   ]
  },
  {
   "cell_type": "markdown",
   "metadata": {
    "slideshow": {
     "slide_type": "subslide"
    }
   },
   "source": [
    "<img src=\"img/query_time_comparison.png\" alt=\"query time comparison\" width=\"600\"/>"
   ]
  },
  {
   "cell_type": "markdown",
   "metadata": {
    "slideshow": {
     "slide_type": "slide"
    }
   },
   "source": [
    "# I'm ready to say 'no' to SQL! How do I get started?\n",
    "\n",
    "<img src=\"img/nosql_decision_chart.png\" alt=\"noSQL decision chart\" width=\"800\"/>"
   ]
  },
  {
   "cell_type": "markdown",
   "metadata": {
    "slideshow": {
     "slide_type": "subslide"
    }
   },
   "source": [
    "<img src=\"img/oreilly_designing_data_intensive_applications.png\" alt=\"Designing Data-Intensive Applications Book Cover\" width=\"250\" style=\"float:left;padding:10px\"/>\n",
    "\n",
    "<img src=\"img/nosql_distilled.jpg\" alt=\"NoSQL Distilled Book Cover\" width=\"250\" style=\"float:left;padding:10px\"/>\n",
    "\n",
    "<img src=\"img/lynda_database_clinic.png\" alt=\"Lynda Database Clinic screenshot\" width=\"300\" style=\"float:left;padding:10px\"/>"
   ]
  },
  {
   "cell_type": "code",
   "execution_count": null,
   "metadata": {},
   "outputs": [],
   "source": []
  }
 ],
 "metadata": {
  "celltoolbar": "Slideshow",
  "kernelspec": {
   "display_name": "Python 3",
   "language": "python",
   "name": "python3"
  },
  "language_info": {
   "codemirror_mode": {
    "name": "ipython",
    "version": 3
   },
   "file_extension": ".py",
   "mimetype": "text/x-python",
   "name": "python",
   "nbconvert_exporter": "python",
   "pygments_lexer": "ipython3",
   "version": "3.6.8"
  }
 },
 "nbformat": 4,
 "nbformat_minor": 2
}
